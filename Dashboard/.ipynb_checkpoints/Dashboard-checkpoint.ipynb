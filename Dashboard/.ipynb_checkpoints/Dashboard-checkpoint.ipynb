{
 "cells": [
  {
   "cell_type": "code",
   "execution_count": null,
   "metadata": {},
   "outputs": [],
   "source": [
    "import numpy as np\n",
    "import pandas as pd\n",
    "import plotly.express as px\n",
    "import plotly.graph_objs as go\n",
    "import hvplot.pandas\n",
    "from pathlib import Path\n",
    "import datetime\n",
    "from census import Census\n",
    "import requests\n",
    "import panel as pn\n",
    "\n",
    "api_key = 'ccc41077b9d4b0a0e2e2a2962b4d8539d61889cf'\n",
    "c = Census(api_key, year=2017)\n",
    "pn.extension('plotly')"
   ]
  },
  {
   "cell_type": "code",
   "execution_count": null,
   "metadata": {},
   "outputs": [],
   "source": [
    "df = pd.read_csv(Path('Data/census_2010_2018_panel_df.csv'))"
   ]
  },
  {
   "cell_type": "code",
   "execution_count": null,
   "metadata": {},
   "outputs": [],
   "source": [
    "df1 = df.drop(columns=['County', 'State', 'Poverty Count',\n",
    "       'Poverty Rate', 'Employed_age16+_civilian', 'Employed_male',\n",
    "       'Financial_managers_male', 'Financial_specialists_male',\n",
    "       'Accountants_&_auditors_male', 'Computer_male', 'Software_devops_male',\n",
    "       'Database_&_system_male', 'Employed_female',\n",
    "       'Financial_managers_female', 'Financial_specialists_female',\n",
    "       'Accountants_&_auditors_female', 'Computer_female',\n",
    "       'Software_devops_female', 'Database_&_system_female',\n",
    "       'Information_age16+_total', 'Finance_and_insurance', 'Real_estate'])"
   ]
  },
  {
   "cell_type": "code",
   "execution_count": null,
   "metadata": {},
   "outputs": [],
   "source": [
    "df1['Year'] =  pd.to_datetime(df1['Year'], format='%Y')"
   ]
  },
  {
   "cell_type": "code",
   "execution_count": null,
   "metadata": {},
   "outputs": [],
   "source": [
    "age_income = df1.filter(['Year', 'Name', 'Median Age', 'Household Income'])"
   ]
  },
  {
   "cell_type": "code",
   "execution_count": null,
   "metadata": {},
   "outputs": [],
   "source": [
    "def age_income_plot():\n",
    "    \n",
    "    age_income_scatter = px.scatter(age_income, x=\"Year\", y=\"Median Age\", color=\"Name\",\n",
    "                     size='Household Income', hover_data=['Household Income'])\n",
    "    return age_income_scatter"
   ]
  },
  {
   "cell_type": "code",
   "execution_count": null,
   "metadata": {},
   "outputs": [],
   "source": [
    "def jobtype_barchart_plot():\n",
    "\n",
    "    census_pop_concat_df2 = pd.read_csv('Data/census_pop_concat_df22.csv') \n",
    "    census_consolidated = census_pop_concat_df2.sort_values(\n",
    "            by=['County', 'Job Type']\n",
    "        )\n",
    "# Assign to a variable (jobtype_barchart) to convert into pane \n",
    "    jobtype_barchart = census_consolidated.hvplot.bar(\"County\", \n",
    "                                    xlabel=\"County\", \n",
    "                                    ylabel=\"Number Employed\", \n",
    "                                    rot=90, \n",
    "                                    groupby=('Job Type')\n",
    "        )\n",
    "    return jobtype_barchart\n",
    "# Plotly pane does not support objects of type 'DynamicMap'.\n",
    "# jobtype_barchart_pane = pn.pane.Plotly(jobtype_barchart)"
   ]
  },
  {
   "cell_type": "code",
   "execution_count": null,
   "metadata": {},
   "outputs": [],
   "source": [
    "census_earn_data = c.acs1.get((\"NAME\", \"B24022_005E\",\n",
    "                               \"B24022_006E\",\n",
    "                               \"B24022_008E\",\n",
    "                               \"B24022_041E\",\n",
    "                               \"B24022_042E\",\n",
    "                               \"B24022_044E\"\n",
    "), {'for': 'county:061,005,047,081,085', 'in': 'state:36'})"
   ]
  },
  {
   "cell_type": "code",
   "execution_count": null,
   "metadata": {},
   "outputs": [],
   "source": [
    "census_earn_pd_2018 = pd.DataFrame(census_earn_data)\n",
    "pd.options.display.float_format = '${:,.2f}'.format\n",
    "census_earn_pd_2018 = census_earn_pd_2018.rename(columns={\"B24022_005E\":\"Male Management Earnings\",\n",
    "                               \"B24022_006E\":\"Male Financial operations Earnings\",\n",
    "                               \"B24022_008E\":\"Male Computer occupations Earnings\",\n",
    "                               \"B24022_041E\":\"Female Management Earnings\",\n",
    "                               \"B24022_042E\":\"Female Financial operations Earnings\",\n",
    "                               \"B24022_044E\":\"Female Computer occupations Earnings\"     \n",
    "                                             \n",
    "    })"
   ]
  },
  {
   "cell_type": "code",
   "execution_count": null,
   "metadata": {},
   "outputs": [],
   "source": [
    "def malefemale_comp_earnings_plot():\n",
    "    \n",
    "    malefemale_comp_earnings = go.Figure(data=[\n",
    "        go.Bar(name='Male', x=census_earn_pd_2018['NAME'], y=census_earn_pd_2018['Male Computer occupations Earnings']),\n",
    "        go.Bar(name='Female', x=census_earn_pd_2018['NAME'], y=census_earn_pd_2018['Female Computer occupations Earnings'])\n",
    "    ])\n",
    "    malefemale_comp_earnings.update_layout(barmode='group', title='Male/Female Computer occupations Earnings')\n",
    "    \n",
    "    return malefemale_comp_earnings"
   ]
  },
  {
   "cell_type": "code",
   "execution_count": null,
   "metadata": {},
   "outputs": [],
   "source": [
    "educational_df = pd.read_csv('Data/educational_data.csv').dropna()"
   ]
  },
  {
   "cell_type": "code",
   "execution_count": null,
   "metadata": {},
   "outputs": [],
   "source": [
    "def educational_attainment_plot():\n",
    "\n",
    "    educational_attainment = go.Figure(data=[\n",
    "        go.Bar(name='Less than high school', x=educational_df['County'],\n",
    "                                 y=educational_df['Less than high school graduate']),\n",
    "        go.Bar(name=\"Some college or associate's degree\", x=educational_df['County'], \n",
    "                                 y=educational_df[\"Some college or associate's degree\"]),\n",
    "        go.Bar(name=\"Bachelor's degree or higher\", x=educational_df['County'], \n",
    "                                 y=educational_df[\"Bachelor's degree or higher\"]),\n",
    "        go.Bar(name=\"High school graduate (includes equivalency)\", x=educational_df['County'], \n",
    "                                 y=educational_df[\"High school graduate (includes equivalency)\"])\n",
    "    ])\n",
    "    educational_attainment.update_layout(barmode='group', title='Educational Attainment')\n",
    "    \n",
    "    return educational_attainment"
   ]
  },
  {
   "cell_type": "code",
   "execution_count": null,
   "metadata": {},
   "outputs": [],
   "source": [
    "dashboard = pn.Tabs(\n",
    "    (\"Job Type Dynamic Bar Chart\", jobtype_barchart_plot()),\n",
    "    (\"Male Female Computer Earnings\", malefemale_comp_earnings_plot()),\n",
    "    (\"Median Age/Household Income Scatter\", age_income_plot()),\n",
    "    (\"Educational Attainment\", educational_attainment_plot())\n",
    ")"
   ]
  },
  {
   "cell_type": "code",
   "execution_count": null,
   "metadata": {},
   "outputs": [],
   "source": [
    "dashboard.servable()"
   ]
  }
 ],
 "metadata": {
  "kernelspec": {
   "display_name": "Python 3.7.6 64-bit ('notbase': conda)",
   "language": "python",
   "name": "python37664bitnotbaseconda219aa8dc67624089a2d675300d9267c4"
  },
  "language_info": {
   "codemirror_mode": {
    "name": "ipython",
    "version": 3
   },
   "file_extension": ".py",
   "mimetype": "text/x-python",
   "name": "python",
   "nbconvert_exporter": "python",
   "pygments_lexer": "ipython3",
   "version": "3.7.6"
  }
 },
 "nbformat": 4,
 "nbformat_minor": 4
}
