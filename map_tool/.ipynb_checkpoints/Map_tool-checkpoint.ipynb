{
 "cells": [
  {
   "cell_type": "markdown",
   "metadata": {},
   "source": [
    "### Choropleth Map Tool"
   ]
  },
  {
   "cell_type": "code",
   "execution_count": 2,
   "metadata": {},
   "outputs": [],
   "source": [
    "import numpy as np\n",
    "import pandas as pd\n",
    "import matplotlib.pyplot as plt\n",
    "import requests\n",
    "from census import Census\n",
    "import os\n",
    "from us import states\n",
    "import plotly.express as px\n",
    "from pathlib import Path\n",
    "from panel.interact import interact\n",
    "import panel as pn\n",
    "\n",
    "api_key = 'ccc41077b9d4b0a0e2e2a2962b4d8539d61889cf'\n",
    "# api_key = os.getenv(\"CENSUS_API_KEY\")\n",
    "# Census & gmaps API Keys\n",
    "\n",
    "c = Census(api_key, year=2018)\n"
   ]
  },
  {
   "cell_type": "code",
   "execution_count": null,
   "metadata": {},
   "outputs": [],
   "source": [
    "map_box_api = os.getenv(\"MAPBOX_API_KEY\")\n",
    "px.set_mapbox_access_token(map_box_api)"
   ]
  },
  {
   "cell_type": "code",
   "execution_count": null,
   "metadata": {},
   "outputs": [],
   "source": [
    "census_earn_data = c.acs1.get((\"NAME\", \"B24022_005E\",\n",
    "                               \"B24022_006E\",\n",
    "                               \"B24022_008E\",\n",
    "                               \"B24022_041E\",\n",
    "                               \"B24022_042E\",\n",
    "                               \"B24022_044E\"\n",
    "), {'for': 'county:061,005,047,081,085', 'in': 'state:36'})\n"
   ]
  },
  {
   "cell_type": "code",
   "execution_count": null,
   "metadata": {},
   "outputs": [],
   "source": [
    "census_earn_pd_2018 = pd.DataFrame(census_earn_data)\n",
    "pd.options.display.float_format = '${:,.2f}'.format\n",
    "census_earn_pd_2018 = census_earn_pd_2018.rename(columns={\"B24022_005E\":\"Male Management Earnings\",\n",
    "                               \"B24022_006E\":\"Male Financial operations Earnings\",\n",
    "                               \"B24022_008E\":\"Male Computer occupations Earnings\",\n",
    "                               \"B24022_041E\":\"Female Management Earnings\",\n",
    "                               \"B24022_042E\":\"Female Financial operations Earnings\",\n",
    "                               \"B24022_044E\":\"Female Computer occupations Earnings\"     \n",
    "                                             \n",
    "    })\n"
   ]
  },
  {
   "cell_type": "code",
   "execution_count": null,
   "metadata": {},
   "outputs": [],
   "source": [
    "census_earn_pd_2018[\"FIPS\"] = census_earn_pd_2018.state.astype(str) + census_earn_pd_2018.county.astype(str)\n",
    "census_earn_pd_2018.head()"
   ]
  },
  {
   "cell_type": "code",
   "execution_count": null,
   "metadata": {},
   "outputs": [],
   "source": [
    "census_earn_pd_2018[\"Management Earnings\"] = census_earn_pd_2018['Male Management Earnings'] + census_earn_pd_2018['Female Management Earnings']\n",
    "census_earn_pd_2018[\"Computer Occupations Earnings\"] = census_earn_pd_2018['Male Computer occupations Earnings'] + census_earn_pd_2018['Female Computer occupations Earnings']\n",
    "census_earn_pd_2018[\"Financial Operations Earnings\"] = census_earn_pd_2018['Male Financial operations Earnings'] + census_earn_pd_2018['Female Financial operations Earnings']\n",
    "\n"
   ]
  },
  {
   "cell_type": "code",
   "execution_count": null,
   "metadata": {},
   "outputs": [],
   "source": [
    "census_earn_pd_2018.set_index(\"NAME\")"
   ]
  },
  {
   "cell_type": "code",
   "execution_count": null,
   "metadata": {},
   "outputs": [],
   "source": [
    "from urllib.request import urlopen\n",
    "import json\n",
    "with urlopen('https://raw.githubusercontent.com/plotly/datasets/master/geojson-counties-fips.json') as response:\n",
    "    counties = json.load(response)"
   ]
  },
  {
   "cell_type": "code",
   "execution_count": null,
   "metadata": {},
   "outputs": [],
   "source": [
    "fig = px.choropleth_mapbox(census_earn_pd_2018, \n",
    "                           geojson=counties, \n",
    "                           locations=\"FIPS\",\n",
    "                           color=\"NAME\",\n",
    "                           zoom=10,\n",
    "                           opacity=.2,\n",
    "                           center = {\"lat\":40.7128, \"lon\":-74.0060},\n",
    "                            hover_data = [\"Male Management Earnings\",\n",
    "                                          \"Male Financial operations Earnings\",\n",
    "                                          \"Female Management Earnings\",\n",
    "                                          \"Female Financial operations Earnings\"]\n",
    "                           \n",
    "                          )"
   ]
  },
  {
   "cell_type": "code",
   "execution_count": null,
   "metadata": {},
   "outputs": [],
   "source": [
    "# to format\n",
    "def mpl_plot(avg):\n",
    "    \n",
    "    # to format the plot\n",
    "    fig = px.choropleth_mapbox(census_earn_pd_2018, \n",
    "                           geojson=counties, \n",
    "                           locations=\"FIPS\",\n",
    "                           color=\"NAME\",\n",
    "                           zoom=10,\n",
    "                           opacity=.2,\n",
    "                           center = {\"lat\":40.7128, \"lon\":-74.0060},\n",
    "                           hover_data=[\"Female Management Earnings\"]\n",
    "                           \n",
    "                          )\n",
    "    return fig\n",
    "\n",
    "\n",
    "# to create the y variable for the chart\n",
    "def find_outliers(variable='Male Management Earnings', window=30, sigma=10, view_fn=mpl_plot):\n",
    "    \n",
    "    \n",
    "    avg = census_earn_pd_2018[variable].rolling(window=window).mean()\n",
    "    \n",
    "    return view_fn(avg)"
   ]
  },
  {
   "cell_type": "code",
   "execution_count": null,
   "metadata": {},
   "outputs": [],
   "source": [
    "find_outliers(variable='Male Management Earnings', window=20, sigma=10)"
   ]
  },
  {
   "cell_type": "code",
   "execution_count": null,
   "metadata": {},
   "outputs": [],
   "source": [
    "kw = dict(variable=sorted(list(census_earn_pd_2018.columns)), sigma=(1, 20))\n",
    "i = pn.interact(find_outliers, **kw)"
   ]
  },
  {
   "cell_type": "code",
   "execution_count": null,
   "metadata": {},
   "outputs": [],
   "source": [
    "p = pn.Row(i[1][0], pn.Column(i[0][0], i[0][1]))\n",
    "p"
   ]
  },
  {
   "cell_type": "markdown",
   "metadata": {},
   "source": [
    "### Parallel Categories "
   ]
  },
  {
   "cell_type": "code",
   "execution_count": null,
   "metadata": {},
   "outputs": [],
   "source": [
    "census_csv = pd.read_csv(Path(\"resources\\census_data.csv\"),infer_datetime_format=True, parse_dates= True)\n",
    "census_csv.head()"
   ]
  },
  {
   "cell_type": "code",
   "execution_count": null,
   "metadata": {},
   "outputs": [],
   "source": [
    "census_csv = census_csv.drop(columns=[\"Employed_age16+_civilian\",\"Employed_male\",\n",
    "                                      \"Financial_managers_male\",\"Male_business_operations\",\n",
    "                                      \"Financial_specialists_male\",\"Accountants_&_auditors_male\",\n",
    "                                      \"Computer_male\",\"Male_data_scientits\",\"Software_devops_male\",\n",
    "                                      \"Database_&_system_male\",\"Employed_female\",\n",
    "                                      \"Financial_managers_female\",\"Female_business_operations\",\n",
    "                                      \"Financial_specialists_female\",\"Accountants_&_auditors_female\",\n",
    "                                      \"Computer_female\",\"Female_data_scientits\",\"Software_devops_female\",\n",
    "                                      \"Database_&_system_female\",\"Information_age16+_total\",\n",
    "                                      \"Finance_and_insurance\",\"Real_estate\",\"Unemployment Rate\",\n",
    "                                      \"Male Business Operations\",\"Male Data Scientits\",\"Female Business Operations\",\"Female Data Scientits\"])\n",
    "census_csv.head()"
   ]
  },
  {
   "cell_type": "code",
   "execution_count": null,
   "metadata": {},
   "outputs": [],
   "source": [
    "pop_bins = [300000,1000000,1700000,2700000]\n",
    "hincome_bins = [25000,60000,70000,90000]\n",
    "povert_bins = [0,200000,300000,600000]\n",
    "pop_group_names = [\"Small POP <100k\",\"Medium POP\", \"Large POP >1.7mil\"]\n",
    "hincome_group_names = [\"Low Income <60K\",\"Middle Income\",\"Large Income >70k\"]\n",
    "povert_group_names = [\"Low <200k\",\"Medium\",\"High >300k\"]\n",
    "census_csv[\"Population Size\"] = pd.cut(census_csv[\"Population\"], pop_bins, labels=pop_group_names)\n",
    "census_csv[\"Income Range\"] = pd.cut(census_csv[\"Household Income\"], hincome_bins, labels=hincome_group_names)\n",
    "census_csv[\"Poverty Level\"] = pd.cut(census_csv[\"Poverty Count\"], povert_bins, labels=povert_group_names)"
   ]
  },
  {
   "cell_type": "code",
   "execution_count": null,
   "metadata": {},
   "outputs": [],
   "source": [
    "census_csv[\"Name\"] = census_csv[\"Name\"].str.replace(\", New York\",\"\")\n",
    "census_csv.head()"
   ]
  },
  {
   "cell_type": "code",
   "execution_count": null,
   "metadata": {},
   "outputs": [],
   "source": [
    "parallel_categories = px.parallel_categories(census_csv, dimensions=[\"Name\",\"Population Size\",\"Income Range\",\"Poverty Level\"], \n",
    "                                             color=\"Year\", \n",
    "                                             color_continuous_scale=px.colors.sequential.Blues, \n",
    "                                             labels={\"Name\": \"Borough\"\n",
    "                                                    }, width=970)\n",
    "parallel_categories.show()"
   ]
  }
 ],
 "metadata": {
  "kernelspec": {
   "display_name": "Python 3",
   "language": "python",
   "name": "python3"
  },
  "language_info": {
   "codemirror_mode": {
    "name": "ipython",
    "version": 3
   },
   "file_extension": ".py",
   "mimetype": "text/x-python",
   "name": "python",
   "nbconvert_exporter": "python",
   "pygments_lexer": "ipython3",
   "version": "3.7.6"
  }
 },
 "nbformat": 4,
 "nbformat_minor": 4
}
